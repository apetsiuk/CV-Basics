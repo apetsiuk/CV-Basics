{
  "nbformat": 4,
  "nbformat_minor": 0,
  "metadata": {
    "colab": {
      "provenance": []
    },
    "kernelspec": {
      "name": "python3",
      "display_name": "Python 3"
    },
    "language_info": {
      "name": "python"
    }
  },
  "cells": [
    {
      "cell_type": "code",
      "execution_count": null,
      "metadata": {
        "id": "vMgX0k8CYzBG"
      },
      "outputs": [],
      "source": []
    },
    {
      "cell_type": "markdown",
      "source": [
        "# Computer Vision: Basic Functionality\n",
        "\n",
        "## Covered topics:\n",
        "\n",
        "- Image and video capture from camera\n",
        "- Video processing\n",
        "- Save processed video\n",
        "- Camera calibration\n",
        "- ArUCo markers generation\n",
        "- ArUCo markers detection\n",
        "- Pose estimation\n",
        "- Perspective projection"
      ],
      "metadata": {
        "id": "e5qsOTBzY1eZ"
      }
    },
    {
      "cell_type": "markdown",
      "source": [
        "# Import libraries"
      ],
      "metadata": {
        "id": "A9t18akynTiU"
      }
    },
    {
      "cell_type": "code",
      "source": [
        "import cv2\n",
        "import os, glob\n",
        "import numpy as np\n",
        "import matplotlib.pyplot as plt\n",
        "import pandas as pd\n",
        "from tqdm import tqdm\n"
      ],
      "metadata": {
        "id": "QhlUj48qnWtL"
      },
      "execution_count": 3,
      "outputs": []
    },
    {
      "cell_type": "markdown",
      "source": [
        "# Image capture from camera"
      ],
      "metadata": {
        "id": "gdbsobrwY5zk"
      }
    },
    {
      "cell_type": "code",
      "source": [
        "image_rgb = cv2.imread(\"img.jpeg\")\n",
        "gray = cv2.imread('img.jpg', 0)[:,10:1700]\n",
        "\n",
        "red = image_rgb[:,:,0] # get blue channel\n",
        "green = image_rgb[:,:,1] # get green channel\n",
        "blue = image_rgb[:,:,2] # get red channel\n",
        "\n",
        "cv2.imshow(\"Image\", image_rgb)\n",
        "cv2.waitKey(0) # wait for the user to press a key\n",
        "cv2.destroyAllWindows()"
      ],
      "metadata": {
        "id": "T_VDh2HdY4lQ"
      },
      "execution_count": null,
      "outputs": []
    },
    {
      "cell_type": "markdown",
      "source": [
        "# Video capture from camera"
      ],
      "metadata": {
        "id": "NrarSNrnuZPf"
      }
    },
    {
      "cell_type": "code",
      "source": [
        "cap = cv2.VideoCapture(0)\n",
        "if not cap.isOpened():\n",
        "    print(\"Cannot open camera\")\n",
        "    exit()\n",
        "while True:\n",
        "    # capture frame-by-frame\n",
        "    ret, frame = cap.read()\n",
        "    if not ret:\n",
        "        print(\"Can't receive frame (stream end?). Exiting ...\")\n",
        "        break\n",
        "    gray = cv2.cvtColor(frame, cv2.COLOR_BGR2GRAY)\n",
        "    cv2.imshow('frame', gray)\n",
        "    if cv2.waitKey(1) == ord('q'):\n",
        "        break\n",
        "cap.release()\n",
        "cv2.destroyAllWindows()"
      ],
      "metadata": {
        "id": "4D1VUyprmUkH"
      },
      "execution_count": null,
      "outputs": []
    },
    {
      "cell_type": "markdown",
      "source": [
        "# Video file processing"
      ],
      "metadata": {
        "id": "AQ-m3rYrn1MO"
      }
    },
    {
      "cell_type": "code",
      "source": [
        "cap = cv2.VideoCapture('Video.mp4')\n",
        "count = 0\n",
        "frame_number = []\n",
        "\n",
        "def func():\n",
        "  print(\"func\")\n",
        "\n",
        "while cap.isOpened():\n",
        "    ret,img = cap.read()\n",
        "    if ret==True:\n",
        "        img = img[10:-70,200:-230,:]\n",
        "        height,width = img.shape[:2]\n",
        "        gray = cv2.cvtColor(img,cv2.COLOR_BGR2GRAY)\n",
        "        gray = cv2.medianBlur(gray,17)\n",
        "        cv2.circle(gray,(20,50),20,255,thickness=-1)\n",
        "        try:\n",
        "          func()\n",
        "        except:\n",
        "          print(\"exception\")\n",
        "\n",
        "        frame_number.append(count)\n",
        "        cv2.putText(img,'Frame= '+str(count),(50,50),cv2.FONT_HERSHEY_SIMPLEX,fontScale=1,color=(0,0,0),thickness=2)\n",
        "        cv2.imshow('Pressure Gauge',img)\n",
        "        count = count + 1\n",
        "\n",
        "        if cv2.waitKey(10) & 0xFF == ord('q'):\n",
        "            # save data and exit\n",
        "            output_df = pd.DataFrame({'Frame': np.asarray(frame_number,dtype=int)})\n",
        "            output_df.to_csv('test2.csv',index=False)\n",
        "            break\n",
        "        print(ret)\n",
        "    else:\n",
        "        print('Video finished')\n",
        "\n",
        "print('Exiting...')\n",
        "cap.release()\n",
        "cv2.destroyAllWindows()"
      ],
      "metadata": {
        "id": "UlQWJ7LgmUpn"
      },
      "execution_count": null,
      "outputs": []
    },
    {
      "cell_type": "markdown",
      "source": [
        "# Save processed video"
      ],
      "metadata": {
        "id": "19skadKdugfG"
      }
    },
    {
      "cell_type": "code",
      "source": [
        "# read data\n",
        "dst_images = sorted(glob.glob('dst_data/frames/*.jpg'))\n",
        "\n",
        "i = 71\n",
        "img_M = cv2.imread(dst_images[i])\n",
        "img_M = cv2.cvtColor(img_M,cv2.COLOR_BGR2RGB)\n",
        "h,w = img_M.shape[:2]\n",
        "\n",
        "# build a frame\n",
        "frame_width = 1024\n",
        "frame_height = 768\n",
        "frame = 50*np.ones((frame_height,frame_width,3),dtype=np.uint8)\n",
        "\n",
        "frame[100:100+h,50:50+w,:] = img_M\n",
        "cv2.putText(frame,'M:',(50,100),cv2.FONT_HERSHEY_SIMPLEX,1,(250,250,250),2,cv2.LINE_AA)\n",
        "print(frame.shape,frame.dtype)\n",
        "\n",
        "fig = plt.figure(figsize=(10,8), dpi=80)\n",
        "plt.imshow(frame)\n",
        "plt.title('Output frame')\n",
        "plt.show()\n",
        "\n",
        "# write a video file\n",
        "fourcc = cv2.VideoWriter_fourcc(*'MJPG')\n",
        "framerate = 1 # frames per second\n",
        "out = cv2.VideoWriter('dst_data/output_video/vid.avi',fourcc,framerate,(frame_width,frame_height))\n",
        "\n",
        "for i in tqdm(range(len(dst_images))):\n",
        "    frame = 50*np.ones((frame_height,frame_width,3),dtype=np.uint8)\n",
        "    img_M = cv2.imread(dst_images[i])\n",
        "    frame[100:100+h,50:50+w,:] = img_M\n",
        "    cv2.putText(frame,'M:',(50,100),cv2.FONT_HERSHEY_SIMPLEX,1,(250,250,250),2,cv2.LINE_AA)\n",
        "    out.write(frame)\n",
        "out.release()"
      ],
      "metadata": {
        "id": "k4Bt21b8n6cr"
      },
      "execution_count": null,
      "outputs": []
    },
    {
      "cell_type": "markdown",
      "source": [
        "# Camera calibration"
      ],
      "metadata": {
        "id": "t9NFjlqmmVB_"
      }
    },
    {
      "cell_type": "code",
      "source": [
        "# https://docs.opencv.org/4.x/dc/dbb/tutorial_py_calibration.html\n",
        "# termination criteria\n",
        "criteria = (cv2.TERM_CRITERIA_EPS + cv2.TERM_CRITERIA_MAX_ITER, 30, 0.001)\n",
        "# prepare object points, like (0,0,0), (1,0,0), (2,0,0) ....,(6,5,0)\n",
        "objp = np.zeros((6*7,3), np.float32)\n",
        "objp[:,:2] = np.mgrid[0:7,0:6].T.reshape(-1,2)\n",
        "# arrays to store object points and image points from all the images.\n",
        "objpoints = [] # 3d point in real world space\n",
        "imgpoints = [] # 2d points in image plane.\n",
        "images = glob.glob('*.jpg')\n",
        "for fname in images:\n",
        "    img = cv2.imread(fname)\n",
        "    gray = cv2.cvtColor(img, cv2.COLOR_BGR2GRAY)\n",
        "    # find the chess board corners\n",
        "    ret, corners = cv2.findChessboardCorners(gray, (7,6), None)\n",
        "    # if found, add object points, image points (after refining them)\n",
        "    if ret == True:\n",
        "        objpoints.append(objp)\n",
        "        corners2 = cv2.cornerSubPix(gray,corners, (11,11), (-1,-1), criteria)\n",
        "        imgpoints.append(corners2)\n",
        "        # Draw and display the corners\n",
        "        cv2.drawChessboardCorners(img, (7,6), corners2, ret)\n",
        "        cv2.imshow('img', img)\n",
        "        cv2.waitKey(500)\n",
        "cv2.destroyAllWindows()"
      ],
      "metadata": {
        "id": "VF6S5hLkmXri"
      },
      "execution_count": null,
      "outputs": []
    },
    {
      "cell_type": "code",
      "source": [
        "# camera calibration\n",
        "ret, mtx, dist, rvecs, tvecs = cv2.calibrateCamera(objpoints, imgpoints, gray.shape[::-1], None, None)"
      ],
      "metadata": {
        "id": "VIVUn0gizlUP"
      },
      "execution_count": null,
      "outputs": []
    },
    {
      "cell_type": "code",
      "source": [
        "# undistortion\n",
        "img = cv2.imread('left12.jpg')\n",
        "h,  w = img.shape[:2]\n",
        "newcameramtx, roi = cv2.getOptimalNewCameraMatrix(mtx, dist, (w,h), 1, (w,h))\n",
        "\n",
        "# undistort\n",
        "dst = cv2.undistort(img, mtx, dist, None, newcameramtx)\n",
        "# crop the image\n",
        "x, y, w, h = roi\n",
        "dst = dst[y:y+h, x:x+w]\n",
        "cv2.imwrite('calibresult.png', dst)"
      ],
      "metadata": {
        "id": "9xKSpodxzmuI"
      },
      "execution_count": null,
      "outputs": []
    },
    {
      "cell_type": "code",
      "source": [
        "# re-projection error (optimal is zero)\n",
        "mean_error = 0\n",
        "for i in range(len(objpoints)):\n",
        "    imgpoints2, _ = cv2.projectPoints(objpoints[i], rvecs[i], tvecs[i], mtx, dist)\n",
        "    error = cv2.norm(imgpoints[i], imgpoints2, cv2.NORM_L2)/len(imgpoints2)\n",
        "    mean_error += error\n",
        "print(\"total error: {}\".format(mean_error/len(objpoints)))"
      ],
      "metadata": {
        "id": "2aZQ2VT90EKh"
      },
      "execution_count": null,
      "outputs": []
    },
    {
      "cell_type": "code",
      "source": [
        "# https://osf.io/9na7e\n",
        "class RCamera():\n",
        "    def __init__(self):\n",
        "        # intrinsic camera parameters\n",
        "        self.intrinsics = np.array([[1300.42739, 0,    418.781929],\n",
        "                                    [0,    1303.92198, 387.691212],\n",
        "                                    [0,    0,      1]], dtype = \"float32\")\n",
        "        # distortion coefficients\n",
        "        self.dist = np.array([[-4.12480510e-01,2.14136684e-01,\n",
        "                               -1.04182515e-04,-3.40927851e-03,\n",
        "                               -3.67091506e-01]],dtype=\"float32\")\n",
        "        # 2D image points\n",
        "        self.TL_px = (46,241)\n",
        "        self.BL_px = (345,530)\n",
        "        self.TR_px = (390,53)\n",
        "        self.BR_px = (716,250)\n",
        "\n",
        "        # 3D model bed corner points\n",
        "        self.TL_mm = (-45.0, 45.0, 0.0)\n",
        "        self.BL_mm = (-45.0, -45.0, 0.0)\n",
        "        self.TR_mm = (45.0, 45.0, 0.0)\n",
        "        self.BR_mm = (45.0, -45.0, 0.0)\n",
        "\n",
        "        self.corner_bed_points_2d = np.array([self.TL_px,self.TR_px,self.BR_px,self.BL_px],dtype=\"float32\")\n",
        "        self.corner_bed_points_3d = np.array([self.TL_mm,self.TR_mm,self.BR_mm,self.BL_mm],dtype=\"float32\")"
      ],
      "metadata": {
        "id": "mX6QdomdmYG_"
      },
      "execution_count": null,
      "outputs": []
    },
    {
      "cell_type": "markdown",
      "source": [
        "# ArUCo markers generation"
      ],
      "metadata": {
        "id": "vRHzS3JJsTSq"
      }
    },
    {
      "cell_type": "code",
      "source": [
        "tag_size, id = 200, 49\n",
        "\n",
        "img = np.zeros((tag_size, tag_size, 1), dtype=\"uint8\")\n",
        "arucoDict = cv2.aruco.getPredefinedDictionary(cv2.aruco.DICT_4X4_50)\n",
        "cv2.aruco.generateImageMarker(arucoDict, id, tag_size, img, 1)\n",
        "plt.imshow(img, cmap=\"gray\")"
      ],
      "metadata": {
        "colab": {
          "base_uri": "https://localhost:8080/",
          "height": 451
        },
        "id": "tfA5XfhsmYKF",
        "outputId": "9030ccd6-22ea-403f-d13b-b89e8d3d15d0"
      },
      "execution_count": 2,
      "outputs": [
        {
          "output_type": "execute_result",
          "data": {
            "text/plain": [
              "<matplotlib.image.AxesImage at 0x787865ff4bb0>"
            ]
          },
          "metadata": {},
          "execution_count": 2
        },
        {
          "output_type": "display_data",
          "data": {
            "text/plain": [
              "<Figure size 640x480 with 1 Axes>"
            ],
            "image/png": "[encoded data removed]"
          },
          "metadata": {}
        }
      ]
    },
    {
      "cell_type": "code",
      "source": [],
      "metadata": {
        "id": "pDO79nMYmYMa"
      },
      "execution_count": null,
      "outputs": []
    },
    {
      "cell_type": "markdown",
      "source": [
        "# ArUCo markers detection (image)\n",
        "\n",
        "- https://github.com/jatin-47/OctoPrint-ARPrintVisualizer/blob/main/octoprint_ARPrintVisualizer/OctoAR/detect_aruco_images.py\n",
        "- https://github.com/GSNCodes/ArUCo-Markers-Pose-Estimation-Generation-Python\n",
        "- https://aliyasineser.medium.com/aruco-marker-tracking-with-opencv-8cb844c26628\n",
        "- https://mecaruco2.readthedocs.io/en/latest/notebooks_rst/Aruco/aruco_basics_video.html\n",
        "- https://docs.opencv.org/4.x/d5/dae/tutorial_aruco_detection.html"
      ],
      "metadata": {
        "id": "_6MLETsRsUzm"
      }
    },
    {
      "cell_type": "code",
      "source": [
        "import numpy as np\n",
        "import cv2\n",
        "import sys"
      ],
      "metadata": {
        "id": "i0Sw4YBu17XR"
      },
      "execution_count": null,
      "outputs": []
    },
    {
      "cell_type": "code",
      "source": [
        "ARUCO_DICT = {\n",
        "\t\"DICT_4X4_50\": cv2.aruco.DICT_4X4_50,\n",
        "\t\"DICT_4X4_100\": cv2.aruco.DICT_4X4_100,\n",
        "\t\"DICT_4X4_250\": cv2.aruco.DICT_4X4_250,\n",
        "\t\"DICT_4X4_1000\": cv2.aruco.DICT_4X4_1000,\n",
        "\t\"DICT_5X5_50\": cv2.aruco.DICT_5X5_50,\n",
        "\t\"DICT_5X5_100\": cv2.aruco.DICT_5X5_100,\n",
        "\t\"DICT_5X5_250\": cv2.aruco.DICT_5X5_250,\n",
        "\t\"DICT_5X5_1000\": cv2.aruco.DICT_5X5_1000,\n",
        "\t\"DICT_6X6_50\": cv2.aruco.DICT_6X6_50,\n",
        "\t\"DICT_6X6_100\": cv2.aruco.DICT_6X6_100,\n",
        "\t\"DICT_6X6_250\": cv2.aruco.DICT_6X6_250,\n",
        "\t\"DICT_6X6_1000\": cv2.aruco.DICT_6X6_1000,\n",
        "\t\"DICT_7X7_50\": cv2.aruco.DICT_7X7_50,\n",
        "\t\"DICT_7X7_100\": cv2.aruco.DICT_7X7_100,\n",
        "\t\"DICT_7X7_250\": cv2.aruco.DICT_7X7_250,\n",
        "\t\"DICT_7X7_1000\": cv2.aruco.DICT_7X7_1000,\n",
        "\t\"DICT_ARUCO_ORIGINAL\": cv2.aruco.DICT_ARUCO_ORIGINAL,\n",
        "\t\"DICT_APRILTAG_16h5\": cv2.aruco.DICT_APRILTAG_16h5,\n",
        "\t\"DICT_APRILTAG_25h9\": cv2.aruco.DICT_APRILTAG_25h9,\n",
        "\t\"DICT_APRILTAG_36h10\": cv2.aruco.DICT_APRILTAG_36h10,\n",
        "\t\"DICT_APRILTAG_36h11\": cv2.aruco.DICT_APRILTAG_36h11\n",
        "}\n",
        "\n",
        "def aruco_display(corners, ids, rejected, image):\n",
        "    if len(corners) > 0:\n",
        "\t\t# flatten the ArUco IDs list\n",
        "        ids = ids.flatten()\n",
        "        # loop over the detected ArUCo corners\n",
        "        for (markerCorner, markerID) in zip(corners, ids):\n",
        "            # extract the marker corners (which are always returned in\n",
        "            # top-left, top-right, bottom-right, and bottom-left order)\n",
        "            corners = markerCorner.reshape((4, 2))\n",
        "            (topLeft, topRight, bottomRight, bottomLeft) = corners\n",
        "\t\t\t# convert each of the (x, y)-coordinate pairs to integers\n",
        "            topRight = (int(topRight[0]), int(topRight[1]))\n",
        "            bottomRight = (int(bottomRight[0]), int(bottomRight[1]))\n",
        "            bottomLeft = (int(bottomLeft[0]), int(bottomLeft[1]))\n",
        "            topLeft = (int(topLeft[0]), int(topLeft[1]))\n",
        "\n",
        "            cv2.line(image, topLeft, topRight, (255, 0, 0), 2)\n",
        "            cv2.line(image, topRight, bottomRight, (0, 255, 0), 2)\n",
        "            cv2.line(image, bottomRight, bottomLeft, (0, 255, 0), 2)\n",
        "            cv2.line(image, bottomLeft, topLeft, (0, 255, 0), 2)\n",
        "\t\t\t# compute and draw the center (x, y)-coordinates of the ArUco\n",
        "\t\t\t# marker\n",
        "            cX = int((topLeft[0] + bottomRight[0]) / 2.0)\n",
        "            cY = int((topLeft[1] + bottomRight[1]) / 2.0)\n",
        "            cv2.circle(image, (cX, cY), 4, (0, 0, 255), -1)\n",
        "\t\t\t# draw the ArUco marker ID on the image\n",
        "            cv2.putText(image, str(markerID),(topLeft[0], topLeft[1] - 10), cv2.FONT_HERSHEY_SIMPLEX,\n",
        "\t\t\t\t0.5, (0, 255, 0), 2)\n",
        "            print(\"[Inference] ArUco marker ID: {}\".format(markerID))\n",
        "\t\t\t# show the output image\n",
        "    return image\n",
        "\n",
        "\n",
        "def get_centre(corner):\n",
        "    \"\"\"\n",
        "    Returns the centre of a rectangle\n",
        "    \"\"\"\n",
        "    (topLeft, topRight, bottomRight, bottomLeft)  = corner.reshape((4, 2))\n",
        "    return int((topLeft[0] + bottomRight[0]) / 2.0), int((topLeft[1] + bottomRight[1]) / 2.0)\n",
        "\n",
        "\n",
        "\n",
        "def get_rec_points(corners):\n",
        "    \"\"\"\n",
        "    Return the four corners of the rectangle that is formed by the centre of the detected four aruco markers\n",
        "    \"\"\"\n",
        "    if len(corners) == 4:\n",
        "        points = []\n",
        "        for corner in corners:\n",
        "            points.append(get_centre(corner))\n",
        "        #sort based on y value\n",
        "        points.sort(key=lambda x: x[1])\n",
        "        #sort based on x value\n",
        "        points[0:2] = sorted(points[0:2], key=lambda x: x[0])\n",
        "        points[2:4] = sorted(points[2:4], key=lambda x: x[0], reverse=True)\n",
        "\n",
        "        points = np.array(points)\n",
        "        points = np.int32(points)\n",
        "        return points\n",
        "    else:\n",
        "        return None"
      ],
      "metadata": {
        "id": "lSeN7XfJ2Fo9"
      },
      "execution_count": null,
      "outputs": []
    },
    {
      "cell_type": "code",
      "source": [
        "# python detect_aruco_images.py --image Images/1.png --type DICT_6X6_250"
      ],
      "metadata": {
        "id": "e0fdP3gl2oOo"
      },
      "execution_count": null,
      "outputs": []
    },
    {
      "cell_type": "code",
      "source": [
        "image = cv2.imread(\"img.jpeg\")\n",
        "h, w, _ = image.shape\n",
        "width = 1000\n",
        "height = int(width*(h/w))\n",
        "frame = cv2.resize(image, (width, height), interpolation=cv2.INTER_CUBIC)\n",
        "img_gray = cv2.cvtColor(frame, cv2.COLOR_RGB2GRAY)\n",
        "\n",
        "# verify that the supplied ArUCo tag exists and is supported by OpenCV\n",
        "if ARUCO_DICT.get(\"DICT_6X6_250\", None) is None:\n",
        "    print(f\"ArUCo tag type '{'DICT_6X6_250'}' is not supported\")\n",
        "    sys.exit(0)\n",
        "\n",
        "# load the ArUCo dictionary, grab the ArUCo parameters, and detect the markers\n",
        "print(\"Detecting '{}' tags....\".format(\"DICT_6X6_250\"))\n",
        "arucoDict = cv2.aruco.Dictionary_get(ARUCO_DICT[\"DICT_6X6_250\"])\n",
        "arucoParams = cv2.aruco.DetectorParameters_create()\n",
        "\n",
        "corners, ids, rejected = cv2.aruco.detectMarkers(img_gray, arucoDict, parameters=arucoParams)\n",
        "detected_markers = cv2.aruco.drawDetectedMarkers(frame, corners, ids)\n",
        "\n",
        "#camera_matrix = np.load(\"calibration_matrix.npy\")\n",
        "#dist_coeffs = np.load(\"distortion_coefficients.npy\")\n",
        "\n",
        "points = get_rec_points(corners)\n",
        "if points is not None:\n",
        "    for point in points:\n",
        "        cv2.circle(frame, tuple(point), 4, (0, 0, 255), -1)\n",
        "\n",
        "    org_h, org_w = 16.5, 18.5 #in cm\n",
        "    points_3D = np.array([[-org_w/2, org_h/2, 0], [org_w/2, org_h/2, 0], [org_w/2, -org_h/2, 0], [-org_w/2, -org_h/2, 0]], dtype=\"double\")\n",
        "\n",
        "    points_2D = points.astype('float32')\n",
        "    points_3D = points_3D.astype('float32')\n",
        "\n",
        "    success, rvecs, tvecs = cv2.solvePnP(points_3D, points_2D, camera_matrix, dist_coeffs)\n",
        "\n",
        "    len = 5 #in cm\n",
        "    axis = np.float32([[-len/2, -len/2, 0], [-len/2, len/2, 0], [len/2, len/2, 0], [len/2, -len/2, 0],\n",
        "                        [-len/2, -len/2, len], [-len/2, len/2, len], [len/2, len/2, len],[len/2, -len/2, len]])\n",
        "\n",
        "    imgpts_2d, jac = cv2.projectPoints(axis, rvecs, tvecs, camera_matrix, dist_coeffs)\n",
        "    imgpts_2d = np.int32(imgpts_2d).reshape(-1, 2)\n",
        "\n",
        "    frame = cv2.drawContours(frame, [imgpts_2d[:4]], -1, (255, 0, 0), 2)\n",
        "    for i, j in zip(range(4), range(4, 8)):\n",
        "        frame = cv2.line(frame, tuple(imgpts_2d[i]), tuple(imgpts_2d[j]), (255, 0, 0), 2)\n",
        "    frame = cv2.drawContours(frame, [imgpts_2d[4:]], -1, (255, 0, 0), 2)\n",
        "\n",
        "\n",
        "    # points = np.float32(points)\n",
        "    # width = 800\n",
        "    # height = int(width*(org_h/org_w))\n",
        "    # target_points = np.float32([[0, 0], [width, 0], [width, height], [0, height]])\n",
        "\n",
        "    # M = cv2.getPerspectiveTransform(points, target_points)\n",
        "    # warped = cv2.warpPerspective(frame, M, (width, height))\n",
        "\n",
        "    # # cv2.imshow(\"Warped\", warped)\n",
        "\n",
        "cv2.imshow(\"Image\", frame)\n",
        "\n",
        "# # Uncomment to save\n",
        "# cv2.imwrite(\"output_sample.png\",detected_markers)\n",
        "\n",
        "cv2.waitKey(0)"
      ],
      "metadata": {
        "id": "QbluwlaLsVBZ"
      },
      "execution_count": null,
      "outputs": []
    },
    {
      "cell_type": "code",
      "source": [],
      "metadata": {
        "id": "GITap9B7sVGj"
      },
      "execution_count": null,
      "outputs": []
    },
    {
      "cell_type": "markdown",
      "source": [
        "# ArUCo markers detection (video)"
      ],
      "metadata": {
        "id": "guRerAqP1e7u"
      }
    },
    {
      "cell_type": "code",
      "source": [
        "# python detect_aruco_video.py --type DICT_6X6_250 --camera False --video test_video.mp4\n",
        "\n",
        "video = cv2.VideoCapture(0)\n",
        "if ARUCO_DICT.get(\"DICT_6X6_250\", None) is None:\n",
        "\tprint(f\"ArUCo tag type '{'DICT_6X6_250'}' is not supported\")\n",
        "\tsys.exit(0)\n",
        "\n",
        "arucoDict = cv2.aruco.Dictionary_get(ARUCO_DICT[\"DICT_6X6_250\"])\n",
        "arucoParams = cv2.aruco.DetectorParameters_create()\n",
        "\n",
        "camera_matrix = np.load(\"calibration_matrix.npy\")\n",
        "dist_coeffs = np.load(\"distortion_coefficients.npy\")\n",
        "\n",
        "while True:\n",
        "\tret, img = video.read()\n",
        "\t# img = cv2.flip(img, 1)\n",
        "\tif ret is False:\n",
        "\t\tbreak\n",
        "\n",
        "\th, w, _ = img.shape\n",
        "\n",
        "\twidth=800\n",
        "\theight = int(width*(h/w))\n",
        "\tframe = cv2.resize(img, (width, height), interpolation=cv2.INTER_CUBIC)\n",
        "\timg_gray = cv2.cvtColor(frame, cv2.COLOR_RGB2GRAY)\n",
        "\n",
        "\tcorners, ids, rejected = cv2.aruco.detectMarkers(img_gray, arucoDict, parameters=arucoParams)\n",
        "\tframe = cv2.aruco.drawDetectedMarkers(frame, corners, ids)\n",
        "\n",
        "\tpoints = get_rec_points(corners)\n",
        "\tif points is not None:\n",
        "\t\tfor point in points:\n",
        "\t\t\tcv2.circle(frame, tuple(point), 4, (0, 0, 255), -1)\n",
        "\n",
        "\t\torg_h, org_w = 16.5, 18.5 #in cm\n",
        "\t\tpoints_3D = np.array([[-org_w/2, org_h/2, 0], [org_w/2, org_h/2, 0], [org_w/2, -org_h/2, 0], [-org_w/2, -org_h/2, 0]], dtype=\"double\")\n",
        "\n",
        "\t\tpoints_2D = points.astype('float32')\n",
        "\t\tpoints_3D = points_3D.astype('float32')\n",
        "\n",
        "\t\tsuccess, rvecs, tvecs = cv2.solvePnP(points_3D, points_2D, camera_matrix, dist_coeffs)\n",
        "\n",
        "\t\tlen = 14 #in cm\n",
        "\t\taxis = np.float32([[-len/2, -len/2, 0], [-len/2, len/2, 0], [len/2, len/2, 0], [len/2, -len/2, 0],\n",
        "\t\t\t\t\t\t\t[-len/2, -len/2, len], [-len/2, len/2, len], [len/2, len/2, len],[len/2, -len/2, len]])\n",
        "\n",
        "\t\timgpts_2d, jac = cv2.projectPoints(axis, rvecs, tvecs, camera_matrix, dist_coeffs)\n",
        "\t\timgpts_2d = np.int32(imgpts_2d).reshape(-1, 2)\n",
        "\n",
        "\t\tframe = cv2.drawContours(frame, [imgpts_2d[:4]], -1, (255, 0, 0), 2)\n",
        "\t\tfor i, j in zip(range(4), range(4, 8)):\n",
        "\t\t\tframe = cv2.line(frame, tuple(imgpts_2d[i]), tuple(imgpts_2d[j]), (0, 255, 10), 2)\n",
        "\t\tframe = cv2.drawContours(frame, [imgpts_2d[4:]], -1, (255, 0, 0), 2)\n",
        "\n",
        "\t\tpoints = np.float32(points)\n",
        "\t\twidth = 800\n",
        "\t\theight = int(width*(org_h/org_w))\n",
        "\t\ttarget_points = np.float32([[0, 0], [width, 0], [width, height], [0, height]])\n",
        "\n",
        "\t\tM = cv2.getPerspectiveTransform(points, target_points)\n",
        "\t\twarped = cv2.warpPerspective(frame, M, (width, height))\n",
        "\n",
        "\t\tcv2.imshow(\"Warped\", warped)\n",
        "\tcv2.imshow(\"Image\", frame)\n",
        "\n",
        "\tkey = cv2.waitKey(1) & 0xFF\n",
        "\tif key == ord(\"q\"):\n",
        "\t\tbreak\n",
        "\n",
        "cv2.destroyAllWindows()\n",
        "video.release()"
      ],
      "metadata": {
        "id": "-c6W6dt4sVJS"
      },
      "execution_count": null,
      "outputs": []
    },
    {
      "cell_type": "markdown",
      "source": [
        "# Pose estimation"
      ],
      "metadata": {
        "id": "K0DnFk6BsVSY"
      }
    },
    {
      "cell_type": "code",
      "source": [
        "def pose_esitmation(frame, aruco_dict_type, matrix_coefficients, distortion_coefficients):\n",
        "\n",
        "    '''\n",
        "    frame - Frame from the video stream\n",
        "    matrix_coefficients - Intrinsic matrix of the calibrated camera\n",
        "    distortion_coefficients - Distortion coefficients associated with your camera\n",
        "\n",
        "    return:-\n",
        "    frame - The frame with the axis drawn on it\n",
        "    '''\n",
        "\n",
        "    gray = cv2.cvtColor(frame, cv2.COLOR_BGR2GRAY)\n",
        "    cv2.aruco_dict = cv2.aruco.Dictionary_get(aruco_dict_type)\n",
        "    parameters = cv2.aruco.DetectorParameters_create()\n",
        "\n",
        "\n",
        "    corners, ids, rejected_img_points = cv2.aruco.detectMarkers(gray, cv2.aruco_dict,parameters=parameters)\n",
        "\n",
        "        # If markers are detected\n",
        "    if len(corners) > 0:\n",
        "        for i in range(0, len(ids)):\n",
        "            # Estimate pose of each marker and return the values rvec and tvec---(different from those of camera coefficients)\n",
        "            rvec, tvec, markerPoints = cv2.aruco.estimatePoseSingleMarkers(corners[i], 0.02, matrix_coefficients,\n",
        "                                                                       distortion_coefficients)\n",
        "            # Draw a square around the markers\n",
        "            cv2.aruco.drawDetectedMarkers(frame, corners)\n",
        "\n",
        "            # Draw Axis\n",
        "            cv2.drawFrameAxes(frame, matrix_coefficients, distortion_coefficients, rvec, tvec, 0.01)\n",
        "\n",
        "    return frame\n",
        "\n",
        "    if __name__ == '__main__':\n",
        "\n",
        "    ap = argparse.ArgumentParser()\n",
        "    ap.add_argument(\"-k\", \"--K_Matrix\", required=True, help=\"Path to calibration matrix (numpy file)\")\n",
        "    ap.add_argument(\"-d\", \"--D_Coeff\", required=True, help=\"Path to distortion coefficients (numpy file)\")\n",
        "    ap.add_argument(\"-t\", \"--type\", type=str, default=\"DICT_ARUCO_ORIGINAL\", help=\"Type of ArUCo tag to detect\")\n",
        "    args = vars(ap.parse_args())\n",
        "\n",
        "\n",
        "    if ARUCO_DICT.get(args[\"type\"], None) is None:\n",
        "        print(f\"ArUCo tag type '{args['type']}' is not supported\")\n",
        "        sys.exit(0)\n",
        "\n",
        "    aruco_dict_type = ARUCO_DICT[args[\"type\"]]\n",
        "    calibration_matrix_path = args[\"K_Matrix\"]\n",
        "    distortion_coefficients_path = args[\"D_Coeff\"]\n",
        "\n",
        "    k = np.load(calibration_matrix_path)\n",
        "    d = np.load(distortion_coefficients_path)\n",
        "    print(k)\n",
        "    print(d)\n",
        "    \"\"\"\n",
        "    video = cv2.VideoCapture(1)\n",
        "    time.sleep(2.0)\n",
        "\n",
        "    while True:\n",
        "        ret, frame = video.read()\n",
        "\n",
        "        if not ret:\n",
        "            break\n",
        "\n",
        "        output = pose_esitmation(frame, aruco_dict_type, k, d)\n",
        "\n",
        "        cv2.imshow('Estimated Pose', output)\n",
        "\n",
        "        key = cv2.waitKey(1) & 0xFF\n",
        "        if key == ord('q'):\n",
        "            break\n",
        "\n",
        "    video.release()\n",
        "    cv2.destroyAllWindows()\n",
        "    \"\"\""
      ],
      "metadata": {
        "id": "_fzlBZ-8sVfo"
      },
      "execution_count": null,
      "outputs": []
    },
    {
      "cell_type": "code",
      "source": [],
      "metadata": {
        "id": "OFgQ44UNsVij"
      },
      "execution_count": null,
      "outputs": []
    },
    {
      "cell_type": "markdown",
      "source": [
        "# Perspective projection"
      ],
      "metadata": {
        "id": "KkwfEUJasgmE"
      }
    },
    {
      "cell_type": "code",
      "source": [
        "class Image():\n",
        "\n",
        "    def __init__(self):\n",
        "        # dimensions of the unwrapped virtual top view (in pixels)\n",
        "        self.top_width = 601\n",
        "        self.top_height = 601\n",
        "\n",
        "\n",
        "    def read(self,path):\n",
        "        src_rgb = cv2.imread(path,cv2.IMREAD_COLOR)\n",
        "        src_rgb = cv2.cvtColor(src_rgb, cv2.COLOR_BGR2RGB)\n",
        "        return src_rgb\n",
        "\n",
        "\n",
        "    def undistort_image(self,src_rgb,Camera):\n",
        "        h, w = src_rgb.shape[:2]\n",
        "        newcameramtx,roi=cv2.getOptimalNewCameraMatrix(Camera.intrinsics,\\\n",
        "                                                       Camera.dist,(w,h),1,(w,h))\n",
        "        undistorted = cv2.undistort(src_rgb,Camera.intrinsics,\\\n",
        "                                    Camera.dist,None,newcameramtx)\n",
        "        x,y,w,h = roi\n",
        "        return undistorted[y:y+h,x:x+w]\n",
        "\n",
        "\n",
        "    def project_plane(self,slice_height,Camera):\n",
        "        # assuming no lens distortion (image is already undistorted)\n",
        "        dist_coeffs = np.zeros((4,1))\n",
        "        #dist_coeffs = Camera.dist\n",
        "        (_,rotation_vector,translation_vector)=cv2.solvePnP(Camera.corner_bed_points_3d,\\\n",
        "                                                          Camera.corner_bed_points_2d,\\\n",
        "                                                          Camera.intrinsics,\\\n",
        "                                                          dist_coeffs,\\\n",
        "                                                          flags=cv2.cv2.SOLVEPNP_ITERATIVE)\n",
        "\n",
        "        G_plane = np.zeros((4,4),dtype=\"float32\")\n",
        "        G_plane.T[:2] = Camera.corner_bed_points_3d.T[:2] # XY\n",
        "        G_plane.T[2] = (slice_height)*np.ones((4),dtype=\"float32\") # Z\n",
        "        G_plane.T[3] = np.array([0,0,0,1],dtype=\"float32\") # Homogenity\n",
        "\n",
        "        # project G_plane on image\n",
        "        pG_plane = cv2.projectPoints(np.asarray(G_plane[:,0:3],dtype=float),\\\n",
        "                                     rotation_vector,\\\n",
        "                                     translation_vector,\\\n",
        "                                     Camera.intrinsics,dist_coeffs)[0].reshape(-1, 2)\n",
        "        return pG_plane\n",
        "\n",
        "\n",
        "    def unwrap_image(self,undistorted_rgb,corner_points_2d):\n",
        "        rst = np.array(corner_points_2d,dtype=\"float32\")\n",
        "        dst = np.array([[0,0],\n",
        "                        [self.top_width-1,0],\n",
        "                        [self.top_width-1,self.top_height-1],\n",
        "                        [0,self.top_height-1]],dtype = \"float32\")\n",
        "        M = cv2.getPerspectiveTransform(rst,dst)\n",
        "        top_rgb = cv2.warpPerspective(undistorted_rgb,M,\\\n",
        "                                (self.top_width,self.top_height))\n",
        "        return top_rgb\n",
        "\n",
        "\n",
        "    def rotate_layer_slice(self,ot_x,ot_y,ot_z,otheta_x,otheta_y,otheta_z):\n",
        "        # rotation around x, y, and z\n",
        "        oRx=np.array([[1,0,0],[0,np.cos(otheta_x*np.pi/180),-np.sin(otheta_x*np.pi/180)],\\\n",
        "                        [0,np.sin(otheta_x*np.pi/180),np.cos(otheta_x*np.pi/180)]])\n",
        "        oRy=np.array([[np.cos(otheta_y*np.pi/180),0,np.sin(otheta_y*np.pi/180)],[0,1,0],\\\n",
        "                        [-np.sin(otheta_y*np.pi/180),0,np.cos(otheta_y*np.pi/180)]])\n",
        "        oRz=np.array([[np.cos(otheta_z*np.pi/180),-np.sin(otheta_z*np.pi/180),0],\\\n",
        "                        [np.sin(otheta_z*np.pi/180),np.cos(otheta_z*np.pi/180),0],[0,0,1]])\n",
        "\n",
        "        oR = np.dot(np.dot(oRx,oRy),oRz)\n",
        "        ot = np.array([ot_x,ot_y,ot_z])\n",
        "\n",
        "        H = np.zeros((4,4), dtype=\"float32\")\n",
        "        H[0:3,0:3] = oR\n",
        "        H[0:3,3] = ot.T\n",
        "        H[3,3] = 1\n",
        "        return H\n",
        "\n",
        "    def project_layer_slice(self,H,stl_slice,Camera):\n",
        "        # assuming no lens distortion (image is already undistorted)\n",
        "        # distortion should be equal to zero\n",
        "        dist_coeffs = np.zeros((4,1))\n",
        "        (_,rotation_vector,translation_vector)=cv2.solvePnP(Camera.corner_bed_points_3d,\\\n",
        "                                                          Camera.corner_bed_points_2d,\\\n",
        "                                                          Camera.intrinsics,\\\n",
        "                                                          dist_coeffs,\\\n",
        "                                                          flags=cv2.cv2.SOLVEPNP_ITERATIVE)\n",
        "        verts = stl_slice.vertices\n",
        "\n",
        "        G_plane = np.zeros((len(verts),4),dtype=\"float32\")\n",
        "        G_plane.T[:3] = np.asarray(verts).T # XYZ\n",
        "        G_plane.T[3] = np.ones((1,len(verts)),dtype=\"float32\")\n",
        "\n",
        "        # tG_plane -> transformed (rototranslated) G_plane\n",
        "        # ptG_plane -> projected tG_plane\n",
        "        tG_plane = np.zeros((len(verts),4),dtype=np.float32)\n",
        "\n",
        "        # rototranslate G_plane\n",
        "        for i in range(len(verts)):\n",
        "            tG_plane[i] = np.dot(H,G_plane[i])\n",
        "\n",
        "        # project g-code or stl layer plane on the image\n",
        "        ptG_plane = cv2.projectPoints(np.asarray(tG_plane[:,0:3],dtype=float),\\\n",
        "                                      rotation_vector,\\\n",
        "                                      translation_vector,\\\n",
        "                                      Camera.intrinsics,dist_coeffs)[0].reshape(-1, 2)\n",
        "        return ptG_plane\n",
        "\n",
        "\n",
        "    def project_stl_mask(self,H,stl_slice,slice_height,undistorted_rgb,Camera):\n",
        "        # assuming no lens distortion (image is already undistorted)\n",
        "        # distortion should be equal to zero\n",
        "        dist_coeffs = np.zeros((4,1))\n",
        "        (_,rotation_vector,translation_vector)=cv2.solvePnP(Camera.corner_bed_points_3d,\\\n",
        "                                                          Camera.corner_bed_points_2d,\\\n",
        "                                                          Camera.intrinsics,\\\n",
        "                                                          dist_coeffs,\\\n",
        "                                                          flags=cv2.cv2.SOLVEPNP_ITERATIVE)\n",
        "        slice_2D,to_3D = stl_slice.to_planar()\n",
        "        outer_polys = [x.exterior for x in slice_2D.polygons_full]\n",
        "\n",
        "        mask = np.zeros(undistorted_rgb.shape,dtype=np.int32)\n",
        "\n",
        "        for p in (slice_2D.polygons_closed):\n",
        "            if p.exterior in outer_polys:\n",
        "                poly = np.asarray(p.exterior.xy,dtype=np.float32).T\n",
        "                G_plane = np.zeros((len(poly),4),dtype=np.float32)\n",
        "                G_plane.T[:2] = poly.T # XY\n",
        "                G_plane.T[2] = slice_height*np.ones((1,len(poly)),dtype=np.float32) # Z\n",
        "                G_plane.T[3] = np.ones((1,len(poly)),dtype=np.float32)\n",
        "\n",
        "                tG_plane = np.zeros((len(poly),4),dtype=np.float32)\n",
        "                for i in range(len(poly)):\n",
        "                    tG_plane[i] = np.dot(H,G_plane[i])\n",
        "                ptG_plane = cv2.projectPoints(np.asarray(tG_plane[:,0:3],dtype=float),\\\n",
        "                                      rotation_vector,\\\n",
        "                                      translation_vector,\\\n",
        "                                      Camera.intrinsics,dist_coeffs)[0].reshape(-1, 2)\n",
        "                cv2.fillPoly(mask,[np.asarray(ptG_plane,dtype=np.int32)],color =(255,255,255))\n",
        "            else:\n",
        "                poly = np.asarray(p.exterior.xy,dtype=np.float32).T\n",
        "                G_plane = np.zeros((len(poly),4),dtype=np.float32)\n",
        "                G_plane.T[:2] = poly.T # XY\n",
        "                G_plane.T[2] = slice_height*np.ones((1,len(poly)),dtype=np.float32) # Z\n",
        "                G_plane.T[3] = np.ones((1,len(poly)),dtype=np.float32)\n",
        "\n",
        "                tG_plane = np.zeros((len(poly),4),dtype=np.float32)\n",
        "                for i in range(len(poly)):\n",
        "                    tG_plane[i] = np.dot(H,G_plane[i])\n",
        "                ptG_plane = cv2.projectPoints(np.asarray(tG_plane[:,0:3],dtype=float),\\\n",
        "                                      rotation_vector,\\\n",
        "                                      translation_vector,\\\n",
        "                                      Camera.intrinsics,dist_coeffs)[0].reshape(-1, 2)\n",
        "                cv2.fillPoly(mask,[np.asarray(ptG_plane,dtype=np.int32)],color =(0,0,0))\n",
        "        mask = np.asarray((mask/255),dtype=np.uint8)\n",
        "        return mask\n",
        "\n",
        "    def center_bbox(self,top_rgb,top_mask_rgb,size=400):\n",
        "        gray_top = cv2.cvtColor(top_rgb, cv2.COLOR_RGB2GRAY)\n",
        "        gray_mask = top_mask_rgb[:,:,0]\n",
        "\n",
        "        rows = np.any(gray_mask, axis=1)\n",
        "        cols = np.any(gray_mask, axis=0)\n",
        "        rmin, rmax = np.where(rows)[0][[0, -1]]\n",
        "        cmin, cmax = np.where(cols)[0][[0, -1]]\n",
        "\n",
        "        center_x = int(cmin+(cmax-cmin)/2)\n",
        "        center_y = int(rmin+(rmax-rmin)/2)\n",
        "\n",
        "        centered_top = gray_top[int(center_y-size/2):int(center_y+size/2),\n",
        "                               int(center_x-size/2):int(center_x+size/2)]\n",
        "        centered_mask = gray_mask[int(center_y-size/2):int(center_y+size/2),\n",
        "                                  int(center_x-size/2):int(center_x+size/2)]\n",
        "\n",
        "        return centered_top,centered_mask"
      ],
      "metadata": {
        "id": "ycREbQTEsiOu"
      },
      "execution_count": null,
      "outputs": []
    },
    {
      "cell_type": "code",
      "source": [],
      "metadata": {
        "id": "fiZUe4vXsii5"
      },
      "execution_count": null,
      "outputs": []
    },
    {
      "cell_type": "code",
      "source": [],
      "metadata": {
        "id": "00RYFCJFsilZ"
      },
      "execution_count": null,
      "outputs": []
    }
  ]
}